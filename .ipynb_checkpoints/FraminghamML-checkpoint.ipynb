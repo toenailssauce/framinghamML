{
 "cells": [
  {
   "cell_type": "code",
   "execution_count": null,
   "metadata": {
    "collapsed": true
   },
   "outputs": [],
   "source": [
    "import sys\n",
    "import pandas as pd\n",
    "import matplotlib\n",
    "import numpy as np\n",
    "import scipy as sp\n",
    "import IPython\n",
    "import sklearn\n",
    "import random\n",
    "import time\n",
    "import warnings\n",
    "warnings.filterwarnings('ignore')"
   ]
  },
  {
   "cell_type": "code",
   "execution_count": null,
   "metadata": {
    "collapsed": true
   },
   "outputs": [],
   "source": [
    "#Common Model Algorithms\n",
    "from sklearn import svm, tree, linear_model, neighbors, naive_bayes, ensemble, discriminant_analysis, gaussian_process\n",
    "from xgboost import XGBClassifier\n",
    "\n",
    "#Common Model Helpers\n",
    "from sklearn.preprocessing import OneHotEncoder, LabelEncoder\n",
    "from sklearn import feature_selection\n",
    "from sklearn import model_selection\n",
    "from sklearn import metrics\n",
    "\n",
    "#Visualization\n",
    "import matplotlib as mpl\n",
    "import matplotlib.pyplot as plt\n",
    "import matplotlib.pylab as pylab\n",
    "import seaborn as sns\n",
    "from pandas.tools.plotting import scatter_matrix\n",
    "\n",
    "#Configure Visualization Defaults\n",
    "#%matplotlib inline = show plots in Jupyter Notebook browser\n",
    "%matplotlib inline\n",
    "mpl.style.use('ggplot')\n",
    "sns.set_style('white')\n",
    "pylab.rcParams['figure.figsize'] = 12,8"
   ]
  },
  {
   "cell_type": "code",
   "execution_count": null,
   "metadata": {
    "scrolled": true
   },
   "outputs": [],
   "source": [
    "train_data = pd.read_csv('./input/handouts_fhs.csv')\n",
    "train_data_copy = train_data.copy(deep = True)\n",
    "\n",
    "pd.set_option('display.max_columns', None)\n",
    "pd.options.display.max_rows = train_data_copy.shape[0]\n",
    "\n",
    "print (train_data_copy.info())\n",
    "train_data_copy.sample(10)"
   ]
  },
  {
   "cell_type": "code",
   "execution_count": null,
   "metadata": {
    "scrolled": true
   },
   "outputs": [],
   "source": [
    "print('Train columns with missing values:\\n', train_data_copy.isnull().sum())\n",
    "train_data_copy.describe(include = 'all')"
   ]
  },
  {
   "cell_type": "code",
   "execution_count": null,
   "metadata": {
    "scrolled": true
   },
   "outputs": [],
   "source": [
    "missing_quantitative_vars = ['totchol1', 'cigpday1', 'bmi1', 'heartrte1', 'glucose1', 'totchol2', 'age2', 'sysbp2', 'diabp2', 'cigpday2', 'bmi2', 'heartrte2', 'glucose2', 'totchol3', 'age3', 'sysbp3', 'diabp3', 'cigpday3', 'bmi3', 'heartrte3', 'glucose3', 'hdlc3', 'ldlc3', 'bmidiff']\n",
    "for var in missing_quantitative_vars:\n",
    "  train_data_copy[var].fillna(train_data_copy[var].median(), inplace = True)\n",
    "\n",
    "missing_qualitative_vars = ['bpmeds1', 'sex2', 'cursmoke2', 'diabetes2', 'bpmeds2', 'prevchd2', 'prevap2', 'prevmi2', 'prevstrk2', 'prevhyp2', 'sex3', 'cursmoke3', 'diabetes3', 'bpmeds3', 'prevchd3', 'prevap3', 'prevmi3', 'prevstrk3', 'prevhyp3']\n",
    "for var in missing_qualitative_vars:\n",
    "  train_data_copy[var].fillna(train_data_copy[var].mode()[0], inplace = True)\n",
    "\n",
    "train_data_copy = train_data_copy.drop(['randid', 'hdlc1', 'ldlc1', 'hdlc2', 'ldlc2'], axis = 1)\n",
    "\n",
    "print(train_data_copy.isnull().sum())"
   ]
  },
  {
   "cell_type": "code",
   "execution_count": null,
   "metadata": {
    "scrolled": true
   },
   "outputs": [],
   "source": [
    "for num_var in train_data_copy:\n",
    "    if (train_data_copy[num_var].name[:4] == 'time'):\n",
    "        train_data_copy[num_var + 'Bin'] = pd.cut(train_data_copy[num_var], 12)\n",
    "    elif (train_data_copy[num_var].dtype == 'float64' or train_data_copy[num_var].dtype == 'int64'):\n",
    "        train_data_copy[num_var + 'Bin'] = pd.cut(train_data_copy[num_var], 6)\n",
    "    \n",
    "label = LabelEncoder()\n",
    "for col in train_data_copy:\n",
    "    if (train_data_copy[col].dtype.name == 'object' or train_data_copy[col].dtype.name == 'category'):\n",
    "        categorical_code = train_data_copy[col].name + '_code'\n",
    "        train_data_copy[categorical_code] = label.fit_transform(train_data_copy[col])\n",
    "\n",
    "### if you wanna fail at life xddddd\n",
    "#train_data_copy['ProbableHeartDisease'] = 0\n",
    "#train_data_copy['ProbableHeartDisease'].loc[(train_data_copy['prevchd1'] == 1) |\n",
    "#                                            (train_data_copy['mi_fchd'] == 1) |\n",
    "#                                            (train_data_copy['anychd'] == 1) |\n",
    "#                                            (train_data_copy['cvd'] == 1)] = 1\n",
    "\n",
    "\n",
    "\n",
    "train_data_copy.info()\n",
    "train_data_copy.sample(10)"
   ]
  },
  {
   "cell_type": "code",
   "execution_count": null,
   "metadata": {},
   "outputs": [],
   "source": [
    "print('Train columns with null values:\\n', train_data_copy.isnull().sum())\n",
    "print('-'*10)\n",
    "print(train_data_copy.info())"
   ]
  },
  {
   "cell_type": "code",
   "execution_count": null,
   "metadata": {
    "scrolled": false
   },
   "outputs": [],
   "source": [
    "Target = ['anychd_code']\n",
    "\n",
    "train_data_copy_x = []\n",
    "for i in range(len(train_data_copy.columns)): # original vars\n",
    "    colName = train_data_copy.columns[i]\n",
    "    if (colName[len(colName)-1-4:len(colName)] != '_code' and \n",
    "        train_data_copy[colName].dtype.name != 'category' and\n",
    "        colName != 'anychd_code'):\n",
    "        train_data_copy_x.append(colName)\n",
    "        \n",
    "train_data_copy_x_calc = []\n",
    "for i in range(len(train_data_copy.columns)): # numerical and _code variables\n",
    "    colName = train_data_copy.columns[i]\n",
    "    if (train_data_copy[colName].dtype != 'object' and \n",
    "        train_data_copy[colName].dtype.name != 'category' and\n",
    "        colName[len(colName)-1-7:len(colName)] != 'Bin_code' and\n",
    "        colName != 'anychd_code'):\n",
    "        train_data_copy_x_calc.append(colName)\n",
    "\n",
    "train_data_copy_xy = Target + train_data_copy_x\n",
    "print ('Original X Y: ', train_data_copy_xy, '\\n')\n",
    "\n",
    "train_data_copy_x_bin = []\n",
    "for i in range(len(train_data_copy.columns)): # numerical, _code, and Bin_code variables\n",
    "    colName = train_data_copy.columns[i]\n",
    "    if (train_data_copy[colName].dtype != 'object' and \n",
    "        train_data_copy[colName].dtype.name != 'category' and\n",
    "        colName != 'anychd_code'):\n",
    "        train_data_copy_x_bin.append(colName)\n",
    "\n",
    "train_data_copy_xy_bin = Target + train_data_copy_x_bin\n",
    "print ('Bin X Y: ', train_data_copy_xy_bin, '\\n')\n",
    "\n",
    "train_data_copy_dummy = pd.get_dummies(train_data_copy[train_data_copy_x])\n",
    "train_data_copy_x_dummy = train_data_copy_dummy.columns.tolist()\n",
    "train_data_copy_xy_dummy = Target + train_data_copy_x_dummy\n",
    "print ('Dummy X Y: ', train_data_copy_xy_dummy, '\\n')\n",
    "\n",
    "train_data_copy_dummy.head()"
   ]
  },
  {
   "cell_type": "code",
   "execution_count": null,
   "metadata": {},
   "outputs": [],
   "source": [
    "print('Train columns with null values: \\n', train_data_copy.isnull().sum())\n",
    "print(\"-\"*10)\n",
    "print (train_data_copy.info())\n",
    "print(\"-\"*10)\n",
    "\n",
    "train_data_copy.describe(include = 'all')"
   ]
  },
  {
   "cell_type": "code",
   "execution_count": null,
   "metadata": {},
   "outputs": [],
   "source": [
    "train1_x, test1_x, train1_y, test1_y = model_selection.train_test_split(train_data_copy[train_data_copy_x_calc], train_data_copy[Target], random_state = 0)\n",
    "train1_x_bin, test1_x_bin, train1_y_bin, test1_y_bin = model_selection.train_test_split(train_data_copy[train_data_copy_x_bin], train_data_copy[Target] , random_state = 0)\n",
    "train1_x_dummy, test1_x_dummy, train1_y_dummy, test1_y_dummy = model_selection.train_test_split(train_data_copy_dummy[train_data_copy_x_dummy], train_data_copy[Target], random_state = 0)\n",
    "\n",
    "\n",
    "print(\"train_data_copy Shape: {}\".format(train_data_copy.shape))\n",
    "print(\"Train1 Shape: {}\".format(train1_x.shape))\n",
    "print(\"Test1 Shape: {}\".format(test1_x.shape))\n",
    "\n",
    "train1_x_bin.head()"
   ]
  },
  {
   "cell_type": "code",
   "execution_count": null,
   "metadata": {},
   "outputs": [],
   "source": [
    "for x in train_data_copy_x:\n",
    "    if train_data_copy[x].dtype != 'float64' :\n",
    "        print('anychd_code Correlation by:', x)\n",
    "        print(train_data_copy[[x, Target[0]]].groupby(x, as_index=False).mean())\n",
    "        print('-'*10, '\\n')"
   ]
  },
  {
   "cell_type": "code",
   "execution_count": null,
   "metadata": {},
   "outputs": [],
   "source": [
    "#correlation heatmap of dataset\n",
    "def correlation_heatmap(df):\n",
    "    _ , ax = plt.subplots(figsize =(20, 15))\n",
    "    colormap = sns.diverging_palette(220, 10, as_cmap = True)\n",
    "    \n",
    "    _ = sns.heatmap(\n",
    "        df.corr(), \n",
    "        cmap = colormap,\n",
    "        square=True, \n",
    "        cbar_kws={'shrink':.9 }, \n",
    "        ax=ax,\n",
    "        annot=True, \n",
    "        linewidths=0.1,vmax=1.0, linecolor='white',\n",
    "        annot_kws={'fontsize':12 }\n",
    "    )\n",
    "    \n",
    "    plt.title('Pearson Correlation of Features', y=1.05, size=15)\n",
    "\n",
    "correlation_heatmap(train_data_copy)"
   ]
  },
  {
   "cell_type": "code",
   "execution_count": null,
   "metadata": {},
   "outputs": [],
   "source": [
    "    #COMPARING DEM CLASSIFICATION ALGORITHMS\n",
    "\n",
    "#Machine Learning Algorithm (MLA) Selection and Initialization\n",
    "MLA = [\n",
    "    #Ensemble Methods\n",
    "    ensemble.AdaBoostClassifier(),\n",
    "    ensemble.BaggingClassifier(),\n",
    "    ensemble.ExtraTreesClassifier(),\n",
    "    ensemble.GradientBoostingClassifier(),\n",
    "    ensemble.RandomForestClassifier(),\n",
    "\n",
    "    #xgboost: http://xgboost.readthedocs.io/en/latest/model.html\n",
    "    XGBClassifier()    \n",
    "    ]\n",
    "\n",
    "\n",
    "\n",
    "#split dataset in cross-validation with this splitter class: http://scikit-learn.org/stable/modules/generated/sklearn.model_selection.ShuffleSplit.html#sklearn.model_selection.ShuffleSplit\n",
    "#note: this is an alternative to train_test_split\n",
    "cv_split = model_selection.ShuffleSplit(n_splits = 10, test_size = .3, train_size = .6, random_state = 0 ) # run model 10x with 60/30 split intentionally leaving out 10%\n",
    "\n",
    "#create table to compare MLA metrics\n",
    "MLA_columns = ['MLA Name', 'MLA Parameters','MLA Train Accuracy Mean', 'MLA Test Accuracy Mean', 'MLA Test Accuracy 3*STD' ,'MLA Time']\n",
    "MLA_compare = pd.DataFrame(columns = MLA_columns)\n",
    "\n",
    "#create table to compare MLA predictions\n",
    "MLA_predict = train_data_copy[Target]\n",
    "\n",
    "#index through MLA and save performance to table\n",
    "row_index = 0\n",
    "for alg in MLA:\n",
    "\n",
    "    #set name and parameters\n",
    "  MLA_name = alg.__class__.__name__\n",
    "  MLA_compare.loc[row_index, 'MLA Name'] = MLA_name\n",
    "  MLA_compare.loc[row_index, 'MLA Parameters'] = str(alg.get_params())\n",
    "    \n",
    "    #score model with cross validation: http://scikit-learn.org/stable/modules/generated/sklearn.model_selection.cross_validate.html#sklearn.model_selection.cross_validate\n",
    "  cv_results = model_selection.cross_validate(alg, train_data_copy[train_data_copy_x_bin], train_data_copy[Target], cv  = cv_split)\n",
    "\n",
    "  MLA_compare.loc[row_index, 'MLA Time'] = cv_results['fit_time'].mean()\n",
    "  MLA_compare.loc[row_index, 'MLA Train Accuracy Mean'] = cv_results['train_score'].mean()\n",
    "  MLA_compare.loc[row_index, 'MLA Test Accuracy Mean'] = cv_results['test_score'].mean()   \n",
    "    #if this is a non-bias random sample, then +/-3 standard deviations (std) from the mean, should statistically capture 99.7% of the subsets\n",
    "  MLA_compare.loc[row_index, 'MLA Test Accuracy 3*STD'] = cv_results['test_score'].std()*3   #let's know the worst that can happen!\n",
    "    \n",
    "\n",
    "    #save MLA predictions - see section 6 for usage\n",
    "  alg.fit(train_data_copy[train_data_copy_x_bin], train_data_copy[Target])\n",
    "  MLA_predict[MLA_name] = alg.predict(train_data_copy[train_data_copy_x_bin])\n",
    "    \n",
    "  row_index+=1\n",
    "\n",
    "    \n",
    "#print and sort table: https://pandas.pydata.org/pandas-docs/stable/generated/pandas.DataFrame.sort_values.html\n",
    "MLA_compare.sort_values(by = ['MLA Test Accuracy Mean'], ascending = False, inplace = True)\n",
    "MLA_compare\n",
    "#MLA_predict"
   ]
  },
  {
   "cell_type": "code",
   "execution_count": null,
   "metadata": {},
   "outputs": [],
   "source": [
    "#barplot using https://seaborn.pydata.org/generated/seaborn.barplot.html\n",
    "sns.barplot(x='MLA Test Accuracy Mean', y = 'MLA Name', data = MLA_compare, color = 'm')\n",
    "\n",
    "#prettify using pyplot: https://matplotlib.org/api/pyplot_api.html\n",
    "plt.title('Machine Learning Algorithm Accuracy Score \\n')\n",
    "plt.xlabel('Accuracy Score (%)')\n",
    "plt.ylabel('Algorithm')"
   ]
  }
 ],
 "metadata": {
  "kernelspec": {
   "display_name": "Python 3",
   "language": "python",
   "name": "python3"
  },
  "language_info": {
   "codemirror_mode": {
    "name": "ipython",
    "version": 3
   },
   "file_extension": ".py",
   "mimetype": "text/x-python",
   "name": "python",
   "nbconvert_exporter": "python",
   "pygments_lexer": "ipython3",
   "version": "3.6.3"
  }
 },
 "nbformat": 4,
 "nbformat_minor": 2
}
